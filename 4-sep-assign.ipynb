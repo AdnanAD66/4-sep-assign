{
 "cells": [
  {
   "cell_type": "code",
   "execution_count": 2,
   "metadata": {},
   "outputs": [
    {
     "name": "stdout",
     "output_type": "stream",
     "text": [
      "Variable Charges is:  1831\n",
      "Uniform Adjustment is:  142\n",
      "Fuel Adj of May-22 is :  2065\n",
      "Fuel Adj of June-22 is :  602\n",
      "Total KE Charges are:  4640\n",
      "Electricity Duty:  69\n",
      "Sales Tax:  800\n",
      "Total Government Charges are:  869\n",
      "Your Electricity Bill:  5509\n"
     ]
    }
   ],
   "source": [
    "def variable_charges (monthly_units):\n",
    "    if monthly_units > 1 and monthly_units < 1:\n",
    "        v_charges = monthly_units * 9.43\n",
    "    if monthly_units > 101 and monthly_units < 200:\n",
    "        v_charges = monthly_units * 17.9566\n",
    "    if monthly_units > 201 and monthly_units < 300:\n",
    "        v_charges = monthly_units * 18.84\n",
    "    if monthly_units > 301 and monthly_units < 400:\n",
    "        v_charges = monthly_units * 19.76\n",
    "    return int(v_charges)\n",
    "\n",
    "def uniform_adj (june_uni_units):\n",
    "    result = june_uni_units * 0.5715\n",
    "    return int(result)\n",
    "\n",
    "def fuel_adj_a(may):\n",
    "    m = may * 6.8858\n",
    "    return int(m)\n",
    "\n",
    "def fuel_adj_b(jun):\n",
    "    j = jun * 3.0114\n",
    "    return int(j)\n",
    "    \n",
    "\n",
    "def ke_charges (c1, c2, c3, c4):\n",
    "    result = c1 + c2 + c3 + c4\n",
    "    return result\n",
    "\n",
    "def duty (ke_charges):\n",
    "    result = ke_charges * 0.015\n",
    "    return int(result)\n",
    "\n",
    "def sales_tax (ke_charges, duty):\n",
    "    result = (ke_charges + duty) * 0.17\n",
    "    return int(result)\n",
    "\n",
    "def govt_charges (a, b):\n",
    "    result = a + b\n",
    "    return int(result)\n",
    "\n",
    "def total_dues (a, b):\n",
    "    result = a + b\n",
    "    return int(result)\n",
    "\n",
    "aug_user_input = int(input (\"Enter Units of Aug: \"))\n",
    "jun_user_input = int(input (\"Enter Units of Jun: \"))\n",
    "jun_uni_user_input = int(input (\"Enter Units of Jun Uni: \"))\n",
    "may_user_input = int(input (\"Enter Units of May: \"))\n",
    "\n",
    "\n",
    "def main_calc(aug, june, jun_uni, may):\n",
    "    display_a = variable_charges(aug)\n",
    "    print (\"Variable Charges is: \", display_a)\n",
    "    \n",
    "    display_b = uniform_adj(jun_uni_user_input)\n",
    "    print (\"Uniform Adjustment is: \", display_b)\n",
    "    \n",
    "    display_c = fuel_adj_a(may_user_input)\n",
    "    print (\"Fuel Adj of May-22 is : \", display_c)\n",
    "    \n",
    "    display_d = fuel_adj_b(jun_user_input)\n",
    "    print (\"Fuel Adj of June-22 is : \", display_d)\n",
    "    \n",
    "    display_e = ke_charges(display_a, display_b, display_c, display_d)\n",
    "    print (\"Total KE Charges are: \", display_e)\n",
    "    \n",
    "    display_f = duty(display_e)\n",
    "    print (\"Electricity Duty: \", display_f)\n",
    "    \n",
    "    display_g = sales_tax(display_e, display_f)\n",
    "    print (\"Sales Tax: \", display_g)\n",
    "\n",
    "    display_h = govt_charges(display_f, display_g)\n",
    "    print (\"Total Government Charges are: \", display_h)\n",
    "    \n",
    "    display_e = total_dues(display_e, display_h)\n",
    "    print (\"Your Electricity Bill: \", display_e)\n",
    "\n",
    "main_calc(aug_user_input, jun_user_input, jun_uni_user_input, may_user_input)"
   ]
  },
  {
   "cell_type": "code",
   "execution_count": null,
   "metadata": {},
   "outputs": [],
   "source": []
  }
 ],
 "metadata": {
  "kernelspec": {
   "display_name": "Python 3.9.12 ('base')",
   "language": "python",
   "name": "python3"
  },
  "language_info": {
   "codemirror_mode": {
    "name": "ipython",
    "version": 3
   },
   "file_extension": ".py",
   "mimetype": "text/x-python",
   "name": "python",
   "nbconvert_exporter": "python",
   "pygments_lexer": "ipython3",
   "version": "3.9.12"
  },
  "orig_nbformat": 4,
  "vscode": {
   "interpreter": {
    "hash": "ee09d971b9c960cb7d08dc07b645c6ef562ed12171900e41af30fbafcc23aaae"
   }
  }
 },
 "nbformat": 4,
 "nbformat_minor": 2
}
